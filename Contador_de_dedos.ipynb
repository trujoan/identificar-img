{
  "nbformat": 4,
  "nbformat_minor": 0,
  "metadata": {
    "colab": {
      "provenance": [],
      "authorship_tag": "ABX9TyM0XuOITcoX9ik51jr2bVt2",
      "include_colab_link": true
    },
    "kernelspec": {
      "name": "python3",
      "display_name": "Python 3"
    },
    "language_info": {
      "name": "python"
    }
  },
  "cells": [
    {
      "cell_type": "markdown",
      "metadata": {
        "id": "view-in-github",
        "colab_type": "text"
      },
      "source": [
        "<a href=\"https://colab.research.google.com/github/trujoan/identificar-img/blob/main/Contador_de_dedor.ipynb\" target=\"_parent\"><img src=\"https://colab.research.google.com/assets/colab-badge.svg\" alt=\"Open In Colab\"/></a>"
      ]
    },
    {
      "cell_type": "markdown",
      "source": [
        "Identificar y contar el número de dedos en una imagen de una mano humana."
      ],
      "metadata": {
        "id": "upQ6-zdA4ZC0"
      }
    },
    {
      "cell_type": "code",
      "execution_count": null,
      "metadata": {
        "id": "EPDaxmm64GM6"
      },
      "outputs": [],
      "source": [
        "!pip install mediapipe opencv-python"
      ]
    },
    {
      "cell_type": "code",
      "source": [
        "# Instalar las librerías en Google Colab\n",
        "\n",
        "import cv2\n",
        "import mediapipe as mp\n",
        "from google.colab.patches import cv2_imshow\n",
        "from google.colab import files\n",
        "\n",
        "# Inicializar el módulo de manos de MediaPipe\n",
        "mp_hands = mp.solutions.hands\n",
        "mp_drawing = mp.solutions.drawing_utils\n",
        "\n",
        "def procesar_imagenes():\n",
        "    \"\"\"\n",
        "    Permite cargar entre 1 y 10 imágenes, y aplica el modelo de MediaPipe para detectar la mano y los dedos.\n",
        "    Maneja dos contadores, uno para la mano derecha y otro para la izquierda.\n",
        "    \"\"\"\n",
        "    uploaded = files.upload()  # Cargar las imágenes (deben ser entre 1 y 10)\n",
        "    image_paths = list(uploaded.keys())\n",
        "\n",
        "    if len(image_paths) < 1 or len(image_paths) > 10:\n",
        "        print(\"Error: Debes cargar entre 1 y 10 imágenes.\")\n",
        "        return\n",
        "\n",
        "    with mp_hands.Hands(static_image_mode=True, max_num_hands=2,\n",
        "                        min_detection_confidence=0.7) as manos:\n",
        "        for image_path in image_paths:\n",
        "            # Leer la imagen\n",
        "            image = cv2.imread(image_path)\n",
        "\n",
        "            # Convertir la imagen de BGR a RGB para MediaPipe\n",
        "            image_rgb = cv2.cvtColor(image, cv2.COLOR_BGR2RGB)\n",
        "            resultados = manos.process(image_rgb)\n",
        "\n",
        "            # Inicializar contadores de dedos\n",
        "            dedos_levantados_derecha = 0\n",
        "            dedos_levantados_izquierda = 0\n",
        "\n",
        "            # Si se detectan manos\n",
        "            if resultados.multi_hand_landmarks and resultados.multi_handedness:\n",
        "                for idx, hand_landmarks in enumerate(resultados.multi_hand_landmarks):\n",
        "                    # Obtener si la mano es derecha o izquierda\n",
        "                    mano_dominante = resultados.multi_handedness[idx].classification[0].label\n",
        "                    if mano_dominante == \"Right\":\n",
        "                        # Contar dedos levantados en la mano derecha\n",
        "                        dedos_levantados_derecha = contar_dedos(hand_landmarks, True)\n",
        "                    else:\n",
        "                        # Contar dedos levantados en la mano izquierda\n",
        "                        dedos_levantados_izquierda = contar_dedos(hand_landmarks, False)\n",
        "\n",
        "                    # Dibujar los puntos y conexiones de la mano en la imagen\n",
        "                    mp_drawing.draw_landmarks(image, hand_landmarks, mp_hands.HAND_CONNECTIONS)\n",
        "\n",
        "                # Mostrar los contadores en la imagen\n",
        "                cv2.putText(image, f'Mano derecha: {dedos_levantados_derecha}', (50, 25),\n",
        "                            cv2.FONT_HERSHEY_SIMPLEX, 0.5 , (0, 255, 0), 1, cv2.LINE_AA)\n",
        "                cv2.putText(image, f'Mano izquierda: {dedos_levantados_izquierda}', (50, 50),\n",
        "                            cv2.FONT_HERSHEY_SIMPLEX, 0.5 , (255, 0, 0), 1, cv2.LINE_AA)\n",
        "\n",
        "            # Mostrar la imagen procesada\n",
        "            cv2_imshow(image)\n",
        "\n",
        "def contar_dedos(hand_landmarks, es_mano_derecha):\n",
        "    \"\"\"\n",
        "    Cuenta cuántos dedos están levantados usando los landmarks de MediaPipe.\n",
        "    Diferencia entre mano derecha e izquierda para ajustar el conteo del pulgar.\n",
        "\n",
        "    Parámetros:\n",
        "    hand_landmarks: Lista de landmarks detectados en la mano.\n",
        "    es_mano_derecha: Bool, True si es la mano derecha, False si es la izquierda.\n",
        "\n",
        "    Retorna:\n",
        "    int -> Número de dedos levantados.\n",
        "    \"\"\"\n",
        "    dedos_levantados = 0\n",
        "\n",
        "    # Obtener los puntos clave de la mano (landmarks)\n",
        "    puntos = hand_landmarks.landmark\n",
        "\n",
        "    # Para el pulgar, la lógica cambia dependiendo de si es la mano derecha o izquierda\n",
        "    if es_mano_derecha:\n",
        "        if puntos[mp_hands.HandLandmark.THUMB_TIP].x < puntos[mp_hands.HandLandmark.THUMB_IP].x:\n",
        "            dedos_levantados += 1\n",
        "    else:  # Para la mano izquierda\n",
        "        if puntos[mp_hands.HandLandmark.THUMB_TIP].x > puntos[mp_hands.HandLandmark.THUMB_IP].x:\n",
        "            dedos_levantados += 1\n",
        "\n",
        "    # Dedos índice, medio, anular y meñique (comparar la y-position de la punta con la base)\n",
        "    dedos = [mp_hands.HandLandmark.INDEX_FINGER_TIP,\n",
        "             mp_hands.HandLandmark.MIDDLE_FINGER_TIP,\n",
        "             mp_hands.HandLandmark.RING_FINGER_TIP,\n",
        "             mp_hands.HandLandmark.PINKY_TIP]\n",
        "\n",
        "    bases = [mp_hands.HandLandmark.INDEX_FINGER_MCP,\n",
        "             mp_hands.HandLandmark.MIDDLE_FINGER_MCP,\n",
        "             mp_hands.HandLandmark.RING_FINGER_MCP,\n",
        "             mp_hands.HandLandmark.PINKY_MCP]\n",
        "\n",
        "    for dedo, base in zip(dedos, bases):\n",
        "        if puntos[dedo].y < puntos[base].y:\n",
        "            dedos_levantados += 1\n",
        "\n",
        "    return dedos_levantados\n",
        "\n",
        "\n",
        "# Llamar a la función para procesar imágenes\n",
        "procesar_imagenes()"
      ],
      "metadata": {
        "id": "bbOY0rS14J_u"
      },
      "execution_count": null,
      "outputs": []
    }
  ]
}
